{
  "cells": [
    {
      "cell_type": "code",
      "execution_count": null,
      "metadata": {
        "id": "Yif0MuBK_Xe6"
      },
      "outputs": [],
      "source": [
        "!pip install streamlit\n",
        "!pip install streamlit-lottie\n"
      ]
    },
    {
      "cell_type": "code",
      "execution_count": 141,
      "metadata": {
        "colab": {
          "base_uri": "https://localhost:8080/"
        },
        "id": "lR_TX4CJ-JsK",
        "outputId": "b0eb0df2-0311-497b-ca50-47df8f7a6c82"
      },
      "outputs": [
        {
          "name": "stdout",
          "output_type": "stream",
          "text": [
            "Overwriting app.py\n"
          ]
        }
      ],
      "source": [
        "%%writefile app.py\n",
        "\n",
        "import streamlit as st\n",
        "import pandas as pd\n",
        "from keras.models import load_model\n",
        "\n",
        "import joblib\n",
        "model = joblib.load('/content/model.sav')\n",
        "\n",
        "\n",
        "feature_labels = {\n",
        "\n",
        "\n",
        "    \"Process temperature [K]\": \"float\",\n",
        "    \"Rotational speed [rpm]\": \"int\",\n",
        "    \"Torque [Nm]\": \"float\",\n",
        "    \"Tool wear [min]\": \"int\"\n",
        "\n",
        "}\n",
        "\n",
        "\n",
        "st.title(\"Fault Prediction\")\n",
        "\n",
        "user_data = {}\n",
        "for feature, data_type in feature_labels.items():\n",
        "    if data_type == \"int\":\n",
        "        user_data[feature] = st.number_input(feature, min_value=0)\n",
        "    elif data_type == \"float\":\n",
        "        user_data[feature] = st.number_input(feature, format=\"%.2f\")\n",
        "\n",
        "\n",
        "run_button = st.button(\"Run Prediction\")\n",
        "\n",
        "if run_button:\n",
        "\n",
        "    df2 = pd.DataFrame(user_data, index=[0])\n",
        "    print(user_data)\n",
        "    print(df2)\n",
        "\n",
        "\n",
        "    res = model.predict(df2)\n",
        "    out = \"No Failure\"\n",
        "    if res[0] == 1 :\n",
        "      out = \"Failure\"\n",
        "\n",
        "    print(res)\n",
        "    st.success(f\"Predicted Outcome: {out}\")\n",
        "\n",
        "\n",
        "\n"
      ]
    },
    {
      "cell_type": "code",
      "execution_count": null,
      "metadata": {
        "colab": {
          "base_uri": "https://localhost:8080/"
        },
        "id": "tDJVk39uBJt-",
        "outputId": "fa52c218-9171-4888-fa0b-4da14b754a4a"
      },
      "outputs": [
        {
          "name": "stdout",
          "output_type": "stream",
          "text": [
            "35.225.15.55\n",
            "\n",
            "Collecting usage statistics. To deactivate, set browser.gatherUsageStats to False.\n",
            "\u001b[0m\n",
            "\u001b[0m\n",
            "\u001b[34m\u001b[1m  You can now view your Streamlit app in your browser.\u001b[0m\n",
            "\u001b[0m\n",
            "\u001b[34m  Network URL: \u001b[0m\u001b[1mhttp://172.28.0.12:8501\u001b[0m\n",
            "\u001b[34m  External URL: \u001b[0m\u001b[1mhttp://35.225.15.55:8501\u001b[0m\n",
            "\u001b[0m\n",
            "\u001b[K\u001b[?25hnpx: installed 22 in 1.583s\n",
            "your url is: https://social-vans-camp.loca.lt\n",
            "2024-03-15 08:50:41.549511: E external/local_xla/xla/stream_executor/cuda/cuda_dnn.cc:9261] Unable to register cuDNN factory: Attempting to register factory for plugin cuDNN when one has already been registered\n",
            "2024-03-15 08:50:41.549575: E external/local_xla/xla/stream_executor/cuda/cuda_fft.cc:607] Unable to register cuFFT factory: Attempting to register factory for plugin cuFFT when one has already been registered\n",
            "2024-03-15 08:50:41.550532: E external/local_xla/xla/stream_executor/cuda/cuda_blas.cc:1515] Unable to register cuBLAS factory: Attempting to register factory for plugin cuBLAS when one has already been registered\n",
            "2024-03-15 08:50:42.593047: W tensorflow/compiler/tf2tensorrt/utils/py_utils.cc:38] TF-TRT Warning: Could not find TensorRT\n",
            "{'Process temperature [K]': 308.5, 'Rotational speed [rpm]': 1498, 'Torque [Nm]': 49.4, 'Tool wear [min]': 5}\n",
            "   Process temperature [K]  Rotational speed [rpm]  Torque [Nm]  Tool wear [min]\n",
            "0                    308.5                    1498         49.4                5\n",
            "[0]\n",
            "{'Process temperature [K]': 308.9, 'Rotational speed [rpm]': 1455, 'Torque [Nm]': 41.3, 'Tool wear [min]': 208}\n",
            "   Process temperature [K]  Rotational speed [rpm]  Torque [Nm]  Tool wear [min]\n",
            "0                    308.9                    1455         41.3              208\n",
            "[1]\n"
          ]
        }
      ],
      "source": [
        "!wget -q -O - ipv4.icanhazip.com\n",
        "!streamlit run app.py & npx localtunnel --port 8501"
      ]
    }
  ],
  "metadata": {
    "colab": {
      "provenance": []
    },
    "kernelspec": {
      "display_name": "Python 3",
      "name": "python3"
    },
    "language_info": {
      "name": "python"
    }
  },
  "nbformat": 4,
  "nbformat_minor": 0
}
